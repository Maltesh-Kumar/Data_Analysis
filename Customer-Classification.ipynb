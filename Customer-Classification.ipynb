{
 "cells": [
  {
   "cell_type": "code",
   "execution_count": 1,
   "metadata": {},
   "outputs": [],
   "source": [
    "import pandas as pd\n",
    "import numpy as np\n",
    "import matplotlib.pyplot as plt\n",
    "import seaborn as sns"
   ]
  },
  {
   "cell_type": "code",
   "execution_count": 2,
   "metadata": {},
   "outputs": [],
   "source": [
    "df = pd.read_excel(\"dataset.xlsx\")"
   ]
  },
  {
   "cell_type": "code",
   "execution_count": 3,
   "metadata": {},
   "outputs": [
    {
     "name": "stdout",
     "output_type": "stream",
     "text": [
      "<class 'pandas.core.frame.DataFrame'>\n",
      "RangeIndex: 48 entries, 0 to 47\n",
      "Data columns (total 27 columns):\n",
      "Sports Category                               48 non-null object\n",
      "Centre                                        48 non-null object\n",
      "Location                                      48 non-null object\n",
      "Student Name                                  48 non-null object\n",
      "Gender                                        48 non-null object\n",
      "Student Location                              48 non-null object\n",
      "School                                        48 non-null object\n",
      "School Location                               48 non-null object\n",
      "Date of Joining                               48 non-null object\n",
      "Subcription Type                              48 non-null object\n",
      "First Payment Date                            48 non-null datetime64[ns]\n",
      "Amount                                        48 non-null int64\n",
      "Balance-Due                                   48 non-null int64\n",
      "Cycle 1 - Start Date                          48 non-null object\n",
      "Cycle 1 - End Date                            48 non-null object\n",
      "Second Payment Date                           22 non-null object\n",
      "Change in Subbscription (Y/N)                 20 non-null object\n",
      "Cycle 2 - Start Date                          19 non-null datetime64[ns]\n",
      "Cycle 2 - End Date                            19 non-null datetime64[ns]\n",
      "Third Payment Date                            7 non-null datetime64[ns]\n",
      "Cycle 3 - Start Date                          7 non-null datetime64[ns]\n",
      "Cycle 3 - End Date                            7 non-null datetime64[ns]\n",
      "Avg. Payment Delay Days per cycle             11 non-null object\n",
      "Total Amount                                  48 non-null int64\n",
      "No. of Hours Practice                         48 non-null int64\n",
      "Active/ Inactive                              48 non-null object\n",
      "Reasons to Leave the Academy (If Inactive)    4 non-null object\n",
      "dtypes: datetime64[ns](6), int64(4), object(17)\n",
      "memory usage: 10.2+ KB\n"
     ]
    }
   ],
   "source": [
    "df.info()"
   ]
  },
  {
   "cell_type": "code",
   "execution_count": 4,
   "metadata": {},
   "outputs": [
    {
     "data": {
      "text/plain": [
       "25"
      ]
     },
     "execution_count": 4,
     "metadata": {},
     "output_type": "execute_result"
    }
   ],
   "source": [
    "df['Location'].nunique()"
   ]
  },
  {
   "cell_type": "code",
   "execution_count": 5,
   "metadata": {},
   "outputs": [
    {
     "data": {
      "text/plain": [
       "array(['5th phase J.P Nagar', '6th phase J.P Nagar',\n",
       "       '7th phase J.P Nagar', '8th phase J.P Nagar',\n",
       "       '9th phase J.P Nagar', '10th phase J.P Nagar',\n",
       "       '11th phase J.P Nagar', '12th phase J.P Nagar',\n",
       "       '13th phase J.P Nagar', '14th phase J.P Nagar',\n",
       "       '15th phase J.P Nagar', '16th phase J.P Nagar',\n",
       "       '17th phase J.P Nagar', '18th phase J.P Nagar',\n",
       "       '19th phase J.P Nagar', '20th phase J.P Nagar',\n",
       "       '21st phase J.P Nagar', '23rd phase J.P Nagar',\n",
       "       '24th phase J.P Nagar', '25th phase J.P Nagar',\n",
       "       '26th phase J.P Nagar', '27th phase J.P Nagar',\n",
       "       '28th phase J.P Nagar', '29th phase J.P Nagar',\n",
       "       '30th phase J.P Nagar'], dtype=object)"
      ]
     },
     "execution_count": 5,
     "metadata": {},
     "output_type": "execute_result"
    }
   ],
   "source": [
    "df['Location'].unique()"
   ]
  },
  {
   "cell_type": "code",
   "execution_count": 6,
   "metadata": {},
   "outputs": [
    {
     "data": {
      "text/plain": [
       "array(['orchid the international school', 'Samved schools',\n",
       "       'Royal high school', 'Frank public school',\n",
       "       'Capitol public school', 'Ekya school', 'clarence high school',\n",
       "       'Carmel public school', 'Clarence high school'], dtype=object)"
      ]
     },
     "execution_count": 6,
     "metadata": {},
     "output_type": "execute_result"
    }
   ],
   "source": [
    "df['School'].unique()"
   ]
  },
  {
   "cell_type": "code",
   "execution_count": 7,
   "metadata": {},
   "outputs": [
    {
     "data": {
      "text/plain": [
       "9"
      ]
     },
     "execution_count": 7,
     "metadata": {},
     "output_type": "execute_result"
    }
   ],
   "source": [
    "df['School'].nunique()"
   ]
  },
  {
   "cell_type": "code",
   "execution_count": 8,
   "metadata": {},
   "outputs": [
    {
     "data": {
      "text/html": [
       "<div>\n",
       "<style scoped>\n",
       "    .dataframe tbody tr th:only-of-type {\n",
       "        vertical-align: middle;\n",
       "    }\n",
       "\n",
       "    .dataframe tbody tr th {\n",
       "        vertical-align: top;\n",
       "    }\n",
       "\n",
       "    .dataframe thead th {\n",
       "        text-align: right;\n",
       "    }\n",
       "</style>\n",
       "<table border=\"1\" class=\"dataframe\">\n",
       "  <thead>\n",
       "    <tr style=\"text-align: right;\">\n",
       "      <th></th>\n",
       "      <th>Amount</th>\n",
       "      <th>Balance-Due</th>\n",
       "      <th>Total Amount</th>\n",
       "      <th>No. of Hours Practice</th>\n",
       "    </tr>\n",
       "    <tr>\n",
       "      <th>Gender</th>\n",
       "      <th></th>\n",
       "      <th></th>\n",
       "      <th></th>\n",
       "      <th></th>\n",
       "    </tr>\n",
       "  </thead>\n",
       "  <tbody>\n",
       "    <tr>\n",
       "      <th>Female</th>\n",
       "      <td>285500</td>\n",
       "      <td>24500</td>\n",
       "      <td>377000</td>\n",
       "      <td>1044</td>\n",
       "    </tr>\n",
       "    <tr>\n",
       "      <th>female</th>\n",
       "      <td>54500</td>\n",
       "      <td>1000</td>\n",
       "      <td>61500</td>\n",
       "      <td>288</td>\n",
       "    </tr>\n",
       "    <tr>\n",
       "      <th>maa</th>\n",
       "      <td>20000</td>\n",
       "      <td>0</td>\n",
       "      <td>20000</td>\n",
       "      <td>60</td>\n",
       "    </tr>\n",
       "    <tr>\n",
       "      <th>male</th>\n",
       "      <td>407000</td>\n",
       "      <td>23000</td>\n",
       "      <td>574000</td>\n",
       "      <td>2190</td>\n",
       "    </tr>\n",
       "  </tbody>\n",
       "</table>\n",
       "</div>"
      ],
      "text/plain": [
       "        Amount  Balance-Due  Total Amount  No. of Hours Practice\n",
       "Gender                                                          \n",
       "Female  285500        24500        377000                   1044\n",
       "female   54500         1000         61500                    288\n",
       "maa      20000            0         20000                     60\n",
       "male    407000        23000        574000                   2190"
      ]
     },
     "execution_count": 8,
     "metadata": {},
     "output_type": "execute_result"
    }
   ],
   "source": [
    "df.groupby(['Gender']).sum()"
   ]
  },
  {
   "cell_type": "code",
   "execution_count": 9,
   "metadata": {},
   "outputs": [],
   "source": [
    "df['Gender'] = df['Gender'].map({'maa':'Male', 'male':'Male','female':'Female','Female':'Female'})"
   ]
  },
  {
   "cell_type": "code",
   "execution_count": 10,
   "metadata": {},
   "outputs": [
    {
     "data": {
      "text/html": [
       "<div>\n",
       "<style scoped>\n",
       "    .dataframe tbody tr th:only-of-type {\n",
       "        vertical-align: middle;\n",
       "    }\n",
       "\n",
       "    .dataframe tbody tr th {\n",
       "        vertical-align: top;\n",
       "    }\n",
       "\n",
       "    .dataframe thead th {\n",
       "        text-align: right;\n",
       "    }\n",
       "</style>\n",
       "<table border=\"1\" class=\"dataframe\">\n",
       "  <thead>\n",
       "    <tr style=\"text-align: right;\">\n",
       "      <th></th>\n",
       "      <th>Amount</th>\n",
       "      <th>Balance-Due</th>\n",
       "      <th>Total Amount</th>\n",
       "      <th>No. of Hours Practice</th>\n",
       "    </tr>\n",
       "    <tr>\n",
       "      <th>Gender</th>\n",
       "      <th></th>\n",
       "      <th></th>\n",
       "      <th></th>\n",
       "      <th></th>\n",
       "    </tr>\n",
       "  </thead>\n",
       "  <tbody>\n",
       "    <tr>\n",
       "      <th>Female</th>\n",
       "      <td>340000</td>\n",
       "      <td>25500</td>\n",
       "      <td>438500</td>\n",
       "      <td>1332</td>\n",
       "    </tr>\n",
       "    <tr>\n",
       "      <th>Male</th>\n",
       "      <td>427000</td>\n",
       "      <td>23000</td>\n",
       "      <td>594000</td>\n",
       "      <td>2250</td>\n",
       "    </tr>\n",
       "  </tbody>\n",
       "</table>\n",
       "</div>"
      ],
      "text/plain": [
       "        Amount  Balance-Due  Total Amount  No. of Hours Practice\n",
       "Gender                                                          \n",
       "Female  340000        25500        438500                   1332\n",
       "Male    427000        23000        594000                   2250"
      ]
     },
     "execution_count": 10,
     "metadata": {},
     "output_type": "execute_result"
    }
   ],
   "source": [
    "df.groupby(['Gender']).sum()"
   ]
  },
  {
   "cell_type": "code",
   "execution_count": 11,
   "metadata": {},
   "outputs": [
    {
     "data": {
      "text/plain": [
       "Male      31\n",
       "Female    17\n",
       "Name: Gender, dtype: int64"
      ]
     },
     "execution_count": 11,
     "metadata": {},
     "output_type": "execute_result"
    }
   ],
   "source": [
    "df['Gender'].value_counts() "
   ]
  },
  {
   "cell_type": "code",
   "execution_count": 12,
   "metadata": {},
   "outputs": [],
   "source": [
    "random = np.random.randint(0,15,size=49)"
   ]
  },
  {
   "cell_type": "code",
   "execution_count": 13,
   "metadata": {},
   "outputs": [],
   "source": [
    "age_random = np.random.randint(6,15,size=49)"
   ]
  },
  {
   "cell_type": "code",
   "execution_count": 15,
   "metadata": {},
   "outputs": [],
   "source": [
    "df['age'] = pd.DataFrame(age_random)"
   ]
  },
  {
   "cell_type": "code",
   "execution_count": 14,
   "metadata": {},
   "outputs": [
    {
     "data": {
      "text/plain": [
       "array([ 6,  9, 13, 14,  9, 12,  6, 14,  9, 12, 12,  9,  7, 10, 10, 13,  9,\n",
       "        6, 13, 12,  6,  7,  6, 11, 12,  6,  6,  9, 12, 10, 12,  7,  6, 13,\n",
       "       13,  9,  8,  7, 12, 13, 11,  6,  9, 14, 14,  8,  6,  9, 13])"
      ]
     },
     "execution_count": 14,
     "metadata": {},
     "output_type": "execute_result"
    }
   ],
   "source": [
    "age_random"
   ]
  },
  {
   "cell_type": "code",
   "execution_count": 16,
   "metadata": {},
   "outputs": [
    {
     "data": {
      "text/plain": [
       "array([ 3,  6, 13, 13,  0,  2, 12,  8,  8, 12,  4,  2, 11, 12,  9,  8,  5,\n",
       "       11,  7,  4, 14,  1,  4,  7,  5,  0,  7,  2, 11,  2,  5,  3,  8,  5,\n",
       "        1, 10,  3,  3, 11,  7,  6,  4,  2,  8,  7, 13,  6,  1,  6])"
      ]
     },
     "execution_count": 16,
     "metadata": {},
     "output_type": "execute_result"
    }
   ],
   "source": [
    "random"
   ]
  },
  {
   "cell_type": "code",
   "execution_count": 17,
   "metadata": {},
   "outputs": [],
   "source": [
    "df['Discount'] = pd.DataFrame(random)"
   ]
  },
  {
   "cell_type": "code",
   "execution_count": 18,
   "metadata": {},
   "outputs": [
    {
     "data": {
      "text/plain": [
       "Index(['Sports Category', 'Centre', 'Location', 'Student Name', 'Gender',\n",
       "       'Student Location', 'School', 'School Location', 'Date of Joining',\n",
       "       'Subcription Type', 'First Payment Date', 'Amount', 'Balance-Due',\n",
       "       'Cycle 1 - Start Date', 'Cycle 1 - End Date', 'Second Payment Date',\n",
       "       'Change in Subbscription (Y/N)', 'Cycle 2 - Start Date',\n",
       "       'Cycle 2 - End Date', 'Third Payment Date', 'Cycle 3 - Start Date',\n",
       "       'Cycle 3 - End Date', 'Avg. Payment Delay Days per cycle',\n",
       "       'Total Amount', 'No. of Hours Practice', 'Active/ Inactive',\n",
       "       'Reasons to Leave the Academy (If Inactive)', 'age', 'Discount'],\n",
       "      dtype='object')"
      ]
     },
     "execution_count": 18,
     "metadata": {},
     "output_type": "execute_result"
    }
   ],
   "source": [
    "df.columns"
   ]
  },
  {
   "cell_type": "code",
   "execution_count": 19,
   "metadata": {},
   "outputs": [
    {
     "data": {
      "text/plain": [
       "Summer camp      15\n",
       "1 month - A       7\n",
       "3 months          6\n",
       "6 month -5        3\n",
       "10 months         3\n",
       "6 months -3       3\n",
       "6 months - I      2\n",
       "6 months          2\n",
       "3 months-5        2\n",
       "12 months - A     1\n",
       "10 Months         1\n",
       "3 months- I       1\n",
       "3 months -B       1\n",
       "12 months - B     1\n",
       "Name: Subcription Type, dtype: int64"
      ]
     },
     "execution_count": 19,
     "metadata": {},
     "output_type": "execute_result"
    }
   ],
   "source": [
    "df['Subcription Type'].value_counts() "
   ]
  },
  {
   "cell_type": "code",
   "execution_count": 20,
   "metadata": {},
   "outputs": [],
   "source": [
    "df['Subcription Type'] = df['Subcription Type'].map({'Summer camp':'SC','1 month - A':'1-M','3 months':'3-M','10 months':'10-M','6 months -3':'6-M','6 month -5':'6-M','6 months - I':'6-M','3 months-5':'3-M','6 months':'6-M','1 MONTH - A':'1-M','12 months - B':'12-M','10 Months':'10-M','3 months- I':'3-M','12 months - A':'12-M','3 months -B':'3-M'})"
   ]
  },
  {
   "cell_type": "code",
   "execution_count": 21,
   "metadata": {},
   "outputs": [
    {
     "data": {
      "text/html": [
       "<div>\n",
       "<style scoped>\n",
       "    .dataframe tbody tr th:only-of-type {\n",
       "        vertical-align: middle;\n",
       "    }\n",
       "\n",
       "    .dataframe tbody tr th {\n",
       "        vertical-align: top;\n",
       "    }\n",
       "\n",
       "    .dataframe thead th {\n",
       "        text-align: right;\n",
       "    }\n",
       "</style>\n",
       "<table border=\"1\" class=\"dataframe\">\n",
       "  <thead>\n",
       "    <tr style=\"text-align: right;\">\n",
       "      <th></th>\n",
       "      <th>Student Name</th>\n",
       "      <th>Gender</th>\n",
       "      <th>Total Amount</th>\n",
       "      <th>Subcription Type</th>\n",
       "      <th>School</th>\n",
       "    </tr>\n",
       "  </thead>\n",
       "  <tbody>\n",
       "    <tr>\n",
       "      <th>0</th>\n",
       "      <td>Harini</td>\n",
       "      <td>Female</td>\n",
       "      <td>60000</td>\n",
       "      <td>12-M</td>\n",
       "      <td>orchid the international school</td>\n",
       "    </tr>\n",
       "    <tr>\n",
       "      <th>1</th>\n",
       "      <td>Hari</td>\n",
       "      <td>Male</td>\n",
       "      <td>38000</td>\n",
       "      <td>3-M</td>\n",
       "      <td>Samved schools</td>\n",
       "    </tr>\n",
       "    <tr>\n",
       "      <th>2</th>\n",
       "      <td>Nivya</td>\n",
       "      <td>Female</td>\n",
       "      <td>30000</td>\n",
       "      <td>6-M</td>\n",
       "      <td>orchid the international school</td>\n",
       "    </tr>\n",
       "    <tr>\n",
       "      <th>3</th>\n",
       "      <td>Ayana Maurya</td>\n",
       "      <td>Female</td>\n",
       "      <td>12000</td>\n",
       "      <td>3-M</td>\n",
       "      <td>Royal high school</td>\n",
       "    </tr>\n",
       "    <tr>\n",
       "      <th>4</th>\n",
       "      <td>Pranav</td>\n",
       "      <td>Male</td>\n",
       "      <td>90000</td>\n",
       "      <td>12-M</td>\n",
       "      <td>Frank public school</td>\n",
       "    </tr>\n",
       "  </tbody>\n",
       "</table>\n",
       "</div>"
      ],
      "text/plain": [
       "   Student Name  Gender  Total Amount Subcription Type  \\\n",
       "0        Harini  Female         60000             12-M   \n",
       "1          Hari    Male         38000              3-M   \n",
       "2         Nivya  Female         30000              6-M   \n",
       "3  Ayana Maurya  Female         12000              3-M   \n",
       "4        Pranav    Male         90000             12-M   \n",
       "\n",
       "                            School  \n",
       "0  orchid the international school  \n",
       "1                   Samved schools  \n",
       "2  orchid the international school  \n",
       "3                Royal high school  \n",
       "4              Frank public school  "
      ]
     },
     "execution_count": 21,
     "metadata": {},
     "output_type": "execute_result"
    }
   ],
   "source": [
    "df[['Student Name','Gender','Total Amount','Subcription Type','School']].head()"
   ]
  },
  {
   "cell_type": "code",
   "execution_count": 22,
   "metadata": {},
   "outputs": [
    {
     "data": {
      "text/plain": [
       "SC      15\n",
       "6-M     10\n",
       "3-M      8\n",
       "1-M      7\n",
       "10-M     4\n",
       "12-M     2\n",
       "Name: Subcription Type, dtype: int64"
      ]
     },
     "execution_count": 22,
     "metadata": {},
     "output_type": "execute_result"
    }
   ],
   "source": [
    "df['Subcription Type'].value_counts() "
   ]
  },
  {
   "cell_type": "code",
   "execution_count": 246,
   "metadata": {},
   "outputs": [
    {
     "ename": "TypeError",
     "evalue": "count() takes exactly one argument (0 given)",
     "output_type": "error",
     "traceback": [
      "\u001b[0;31m---------------------------------------------------------------------------\u001b[0m",
      "\u001b[0;31mTypeError\u001b[0m                                 Traceback (most recent call last)",
      "\u001b[0;32m<ipython-input-246-d639fba51ddb>\u001b[0m in \u001b[0;36m<module>\u001b[0;34m\u001b[0m\n\u001b[0;32m----> 1\u001b[0;31m \u001b[0mdf\u001b[0m\u001b[0;34m[\u001b[0m\u001b[0;34m'School'\u001b[0m\u001b[0;34m]\u001b[0m\u001b[0;34m==\u001b[0m\u001b[0;34m[\u001b[0m\u001b[0;34m'orchid the international school'\u001b[0m\u001b[0;34m]\u001b[0m\u001b[0;34m.\u001b[0m\u001b[0mcount\u001b[0m\u001b[0;34m(\u001b[0m\u001b[0;34m)\u001b[0m\u001b[0;34m\u001b[0m\u001b[0;34m\u001b[0m\u001b[0m\n\u001b[0m",
      "\u001b[0;31mTypeError\u001b[0m: count() takes exactly one argument (0 given)"
     ]
    }
   ],
   "source": [
    "df['School']==['orchid the international school'].count() "
   ]
  },
  {
   "cell_type": "code",
   "execution_count": 247,
   "metadata": {},
   "outputs": [
    {
     "data": {
      "text/plain": [
       "orchid the international school    17\n",
       "Samved schools                     10\n",
       "Royal high school                   4\n",
       "Carmel public school                4\n",
       "Capitol public school               4\n",
       "Ekya school                         4\n",
       "clarence high school                2\n",
       "Clarence high school                2\n",
       "Frank public school                 2\n",
       "Name: School, dtype: int64"
      ]
     },
     "execution_count": 247,
     "metadata": {},
     "output_type": "execute_result"
    }
   ],
   "source": [
    "df['School'].value_counts() "
   ]
  },
  {
   "cell_type": "code",
   "execution_count": 248,
   "metadata": {},
   "outputs": [
    {
     "data": {
      "text/plain": [
       "(0, 10)"
      ]
     },
     "execution_count": 248,
     "metadata": {},
     "output_type": "execute_result"
    },
    {
     "data": {
      "image/png": "[encoded data removed]",
      "text/plain": [
       "<Figure size 432x288 with 1 Axes>"
      ]
     },
     "metadata": {
      "needs_background": "light"
     },
     "output_type": "display_data"
    }
   ],
   "source": [
    "df[df[\"School\"] == 'orchid the international school']['Subcription Type'].value_counts() .plot(kind='bar')\n",
    "plt.title(\"Orchid the international school\")\n",
    "plt.ylim((0,10))"
   ]
  },
  {
   "cell_type": "code",
   "execution_count": 249,
   "metadata": {},
   "outputs": [
    {
     "data": {
      "text/plain": [
       "(0, 10)"
      ]
     },
     "execution_count": 249,
     "metadata": {},
     "output_type": "execute_result"
    },
    {
     "data": {
      "image/png": "[encoded data removed]",
      "text/plain": [
       "<Figure size 432x288 with 1 Axes>"
      ]
     },
     "metadata": {
      "needs_background": "light"
     },
     "output_type": "display_data"
    }
   ],
   "source": [
    "df[df[\"School\"] == 'Samved schools']['Subcription Type'].value_counts() .plot(kind='bar')\n",
    "plt.title(\"Samved schools\")\n",
    "plt.ylim((0,10))"
   ]
  },
  {
   "cell_type": "code",
   "execution_count": 104,
   "metadata": {},
   "outputs": [
    {
     "data": {
      "text/html": [
       "<div>\n",
       "<style scoped>\n",
       "    .dataframe tbody tr th:only-of-type {\n",
       "        vertical-align: middle;\n",
       "    }\n",
       "\n",
       "    .dataframe tbody tr th {\n",
       "        vertical-align: top;\n",
       "    }\n",
       "\n",
       "    .dataframe thead th {\n",
       "        text-align: right;\n",
       "    }\n",
       "</style>\n",
       "<table border=\"1\" class=\"dataframe\">\n",
       "  <thead>\n",
       "    <tr style=\"text-align: right;\">\n",
       "      <th></th>\n",
       "      <th>Student Name</th>\n",
       "      <th>Gender</th>\n",
       "      <th>Total Amount</th>\n",
       "      <th>Subcription Type</th>\n",
       "      <th>School</th>\n",
       "    </tr>\n",
       "  </thead>\n",
       "  <tbody>\n",
       "    <tr>\n",
       "      <th>0</th>\n",
       "      <td>Harini</td>\n",
       "      <td>Female</td>\n",
       "      <td>60000</td>\n",
       "      <td>12-M</td>\n",
       "      <td>orchid the international school</td>\n",
       "    </tr>\n",
       "    <tr>\n",
       "      <th>1</th>\n",
       "      <td>Hari</td>\n",
       "      <td>Male</td>\n",
       "      <td>38000</td>\n",
       "      <td>3-M</td>\n",
       "      <td>Samved schools</td>\n",
       "    </tr>\n",
       "    <tr>\n",
       "      <th>2</th>\n",
       "      <td>Nivya</td>\n",
       "      <td>Female</td>\n",
       "      <td>30000</td>\n",
       "      <td>6-M</td>\n",
       "      <td>orchid the international school</td>\n",
       "    </tr>\n",
       "    <tr>\n",
       "      <th>3</th>\n",
       "      <td>Ayana Maurya</td>\n",
       "      <td>Female</td>\n",
       "      <td>12000</td>\n",
       "      <td>3-M</td>\n",
       "      <td>Royal high school</td>\n",
       "    </tr>\n",
       "    <tr>\n",
       "      <th>4</th>\n",
       "      <td>Pranav</td>\n",
       "      <td>Male</td>\n",
       "      <td>90000</td>\n",
       "      <td>12-M</td>\n",
       "      <td>Frank public school</td>\n",
       "    </tr>\n",
       "  </tbody>\n",
       "</table>\n",
       "</div>"
      ],
      "text/plain": [
       "   Student Name  Gender  Total Amount Subcription Type  \\\n",
       "0        Harini  Female         60000             12-M   \n",
       "1          Hari    Male         38000              3-M   \n",
       "2         Nivya  Female         30000              6-M   \n",
       "3  Ayana Maurya  Female         12000              3-M   \n",
       "4        Pranav    Male         90000             12-M   \n",
       "\n",
       "                            School  \n",
       "0  orchid the international school  \n",
       "1                   Samved schools  \n",
       "2  orchid the international school  \n",
       "3                Royal high school  \n",
       "4              Frank public school  "
      ]
     },
     "execution_count": 104,
     "metadata": {},
     "output_type": "execute_result"
    }
   ],
   "source": [
    "df[['Student Name','Gender','Total Amount','Subcription Type','School']].head()"
   ]
  },
  {
   "cell_type": "code",
   "execution_count": 128,
   "metadata": {},
   "outputs": [
    {
     "data": {
      "text/html": [
       "<div>\n",
       "<style scoped>\n",
       "    .dataframe tbody tr th:only-of-type {\n",
       "        vertical-align: middle;\n",
       "    }\n",
       "\n",
       "    .dataframe tbody tr th {\n",
       "        vertical-align: top;\n",
       "    }\n",
       "\n",
       "    .dataframe thead th {\n",
       "        text-align: right;\n",
       "    }\n",
       "</style>\n",
       "<table border=\"1\" class=\"dataframe\">\n",
       "  <thead>\n",
       "    <tr style=\"text-align: right;\">\n",
       "      <th></th>\n",
       "      <th>Student Name</th>\n",
       "      <th>Gender</th>\n",
       "      <th>Total Amount</th>\n",
       "      <th>Subcription Type</th>\n",
       "      <th>School</th>\n",
       "      <th>Discount</th>\n",
       "    </tr>\n",
       "  </thead>\n",
       "  <tbody>\n",
       "    <tr>\n",
       "      <th>4</th>\n",
       "      <td>Pranav</td>\n",
       "      <td>Male</td>\n",
       "      <td>90000</td>\n",
       "      <td>12-M</td>\n",
       "      <td>Frank public school</td>\n",
       "      <td>12</td>\n",
       "    </tr>\n",
       "    <tr>\n",
       "      <th>0</th>\n",
       "      <td>Harini</td>\n",
       "      <td>Female</td>\n",
       "      <td>60000</td>\n",
       "      <td>12-M</td>\n",
       "      <td>orchid the international school</td>\n",
       "      <td>9</td>\n",
       "    </tr>\n",
       "    <tr>\n",
       "      <th>35</th>\n",
       "      <td>Navika Agal</td>\n",
       "      <td>Female</td>\n",
       "      <td>60000</td>\n",
       "      <td>6-M</td>\n",
       "      <td>orchid the international school</td>\n",
       "      <td>13</td>\n",
       "    </tr>\n",
       "    <tr>\n",
       "      <th>30</th>\n",
       "      <td>Rishab</td>\n",
       "      <td>Male</td>\n",
       "      <td>60000</td>\n",
       "      <td>6-M</td>\n",
       "      <td>Samved schools</td>\n",
       "      <td>2</td>\n",
       "    </tr>\n",
       "    <tr>\n",
       "      <th>34</th>\n",
       "      <td>Neha</td>\n",
       "      <td>Female</td>\n",
       "      <td>60000</td>\n",
       "      <td>6-M</td>\n",
       "      <td>Royal high school</td>\n",
       "      <td>7</td>\n",
       "    </tr>\n",
       "  </tbody>\n",
       "</table>\n",
       "</div>"
      ],
      "text/plain": [
       "   Student Name  Gender  Total Amount Subcription Type  \\\n",
       "4        Pranav    Male         90000             12-M   \n",
       "0        Harini  Female         60000             12-M   \n",
       "35  Navika Agal  Female         60000              6-M   \n",
       "30       Rishab    Male         60000              6-M   \n",
       "34         Neha  Female         60000              6-M   \n",
       "\n",
       "                             School  Discount  \n",
       "4               Frank public school        12  \n",
       "0   orchid the international school         9  \n",
       "35  orchid the international school        13  \n",
       "30                   Samved schools         2  \n",
       "34                Royal high school         7  "
      ]
     },
     "execution_count": 128,
     "metadata": {},
     "output_type": "execute_result"
    }
   ],
   "source": [
    "df[['Student Name','Gender','Total Amount','Subcription Type','School','Discount']].sort_values(['Total Amount'], ascending=False).head()"
   ]
  },
  {
   "cell_type": "code",
   "execution_count": 129,
   "metadata": {},
   "outputs": [
    {
     "data": {
      "text/html": [
       "<div>\n",
       "<style scoped>\n",
       "    .dataframe tbody tr th:only-of-type {\n",
       "        vertical-align: middle;\n",
       "    }\n",
       "\n",
       "    .dataframe tbody tr th {\n",
       "        vertical-align: top;\n",
       "    }\n",
       "\n",
       "    .dataframe thead th {\n",
       "        text-align: right;\n",
       "    }\n",
       "</style>\n",
       "<table border=\"1\" class=\"dataframe\">\n",
       "  <thead>\n",
       "    <tr style=\"text-align: right;\">\n",
       "      <th></th>\n",
       "      <th>Student Name</th>\n",
       "      <th>Gender</th>\n",
       "      <th>Total Amount</th>\n",
       "      <th>Subcription Type</th>\n",
       "      <th>School</th>\n",
       "      <th>Discount</th>\n",
       "    </tr>\n",
       "  </thead>\n",
       "  <tbody>\n",
       "    <tr>\n",
       "      <th>48</th>\n",
       "      <td>Akhil K</td>\n",
       "      <td>Male</td>\n",
       "      <td>5500</td>\n",
       "      <td>SC</td>\n",
       "      <td>orchid the international school</td>\n",
       "      <td>1</td>\n",
       "    </tr>\n",
       "    <tr>\n",
       "      <th>17</th>\n",
       "      <td>Yuktha Lakshmi</td>\n",
       "      <td>Female</td>\n",
       "      <td>5500</td>\n",
       "      <td>SC</td>\n",
       "      <td>Samved schools</td>\n",
       "      <td>7</td>\n",
       "    </tr>\n",
       "    <tr>\n",
       "      <th>23</th>\n",
       "      <td>Veda</td>\n",
       "      <td>Male</td>\n",
       "      <td>5500</td>\n",
       "      <td>SC</td>\n",
       "      <td>orchid the international school</td>\n",
       "      <td>1</td>\n",
       "    </tr>\n",
       "    <tr>\n",
       "      <th>15</th>\n",
       "      <td>Zoe Akthar</td>\n",
       "      <td>Female</td>\n",
       "      <td>5500</td>\n",
       "      <td>SC</td>\n",
       "      <td>orchid the international school</td>\n",
       "      <td>14</td>\n",
       "    </tr>\n",
       "    <tr>\n",
       "      <th>25</th>\n",
       "      <td>Shyam Gaur</td>\n",
       "      <td>Male</td>\n",
       "      <td>5500</td>\n",
       "      <td>SC</td>\n",
       "      <td>Samved schools</td>\n",
       "      <td>6</td>\n",
       "    </tr>\n",
       "  </tbody>\n",
       "</table>\n",
       "</div>"
      ],
      "text/plain": [
       "      Student Name  Gender  Total Amount Subcription Type  \\\n",
       "48         Akhil K    Male          5500               SC   \n",
       "17  Yuktha Lakshmi  Female          5500               SC   \n",
       "23            Veda    Male          5500               SC   \n",
       "15      Zoe Akthar  Female          5500               SC   \n",
       "25      Shyam Gaur    Male          5500               SC   \n",
       "\n",
       "                             School  Discount  \n",
       "48  orchid the international school         1  \n",
       "17                   Samved schools         7  \n",
       "23  orchid the international school         1  \n",
       "15  orchid the international school        14  \n",
       "25                   Samved schools         6  "
      ]
     },
     "execution_count": 129,
     "metadata": {},
     "output_type": "execute_result"
    }
   ],
   "source": [
    "df[['Student Name','Gender','Total Amount','Subcription Type','School','Discount']].sort_values(['Total Amount'], ascending=True).head()"
   ]
  },
  {
   "cell_type": "code",
   "execution_count": 131,
   "metadata": {},
   "outputs": [
    {
     "data": {
      "text/html": [
       "<div>\n",
       "<style scoped>\n",
       "    .dataframe tbody tr th:only-of-type {\n",
       "        vertical-align: middle;\n",
       "    }\n",
       "\n",
       "    .dataframe tbody tr th {\n",
       "        vertical-align: top;\n",
       "    }\n",
       "\n",
       "    .dataframe thead th {\n",
       "        text-align: right;\n",
       "    }\n",
       "</style>\n",
       "<table border=\"1\" class=\"dataframe\">\n",
       "  <thead>\n",
       "    <tr style=\"text-align: right;\">\n",
       "      <th></th>\n",
       "      <th>Student Name</th>\n",
       "      <th>Gender</th>\n",
       "      <th>Total Amount</th>\n",
       "      <th>Subcription Type</th>\n",
       "      <th>School</th>\n",
       "      <th>Discount</th>\n",
       "    </tr>\n",
       "  </thead>\n",
       "  <tbody>\n",
       "    <tr>\n",
       "      <th>26</th>\n",
       "      <td>Sesha Madhavan</td>\n",
       "      <td>Female</td>\n",
       "      <td>19000</td>\n",
       "      <td>3-M</td>\n",
       "      <td>orchid the international school</td>\n",
       "      <td>0</td>\n",
       "    </tr>\n",
       "    <tr>\n",
       "      <th>3</th>\n",
       "      <td>Ayana Maurya</td>\n",
       "      <td>Female</td>\n",
       "      <td>12000</td>\n",
       "      <td>3-M</td>\n",
       "      <td>Royal high school</td>\n",
       "      <td>0</td>\n",
       "    </tr>\n",
       "    <tr>\n",
       "      <th>6</th>\n",
       "      <td>Siddhanth</td>\n",
       "      <td>Male</td>\n",
       "      <td>5500</td>\n",
       "      <td>SC</td>\n",
       "      <td>Samved schools</td>\n",
       "      <td>0</td>\n",
       "    </tr>\n",
       "    <tr>\n",
       "      <th>48</th>\n",
       "      <td>Akhil K</td>\n",
       "      <td>Male</td>\n",
       "      <td>5500</td>\n",
       "      <td>SC</td>\n",
       "      <td>orchid the international school</td>\n",
       "      <td>1</td>\n",
       "    </tr>\n",
       "    <tr>\n",
       "      <th>23</th>\n",
       "      <td>Veda</td>\n",
       "      <td>Male</td>\n",
       "      <td>5500</td>\n",
       "      <td>SC</td>\n",
       "      <td>orchid the international school</td>\n",
       "      <td>1</td>\n",
       "    </tr>\n",
       "  </tbody>\n",
       "</table>\n",
       "</div>"
      ],
      "text/plain": [
       "      Student Name  Gender  Total Amount Subcription Type  \\\n",
       "26  Sesha Madhavan  Female         19000              3-M   \n",
       "3     Ayana Maurya  Female         12000              3-M   \n",
       "6        Siddhanth    Male          5500               SC   \n",
       "48         Akhil K    Male          5500               SC   \n",
       "23            Veda    Male          5500               SC   \n",
       "\n",
       "                             School  Discount  \n",
       "26  orchid the international school         0  \n",
       "3                 Royal high school         0  \n",
       "6                    Samved schools         0  \n",
       "48  orchid the international school         1  \n",
       "23  orchid the international school         1  "
      ]
     },
     "execution_count": 131,
     "metadata": {},
     "output_type": "execute_result"
    }
   ],
   "source": [
    "df[['Student Name','Gender','Total Amount','Subcription Type','School','Discount']].sort_values(['Discount'], ascending=True).head()"
   ]
  },
  {
   "cell_type": "code",
   "execution_count": 132,
   "metadata": {},
   "outputs": [
    {
     "data": {
      "text/html": [
       "<div>\n",
       "<style scoped>\n",
       "    .dataframe tbody tr th:only-of-type {\n",
       "        vertical-align: middle;\n",
       "    }\n",
       "\n",
       "    .dataframe tbody tr th {\n",
       "        vertical-align: top;\n",
       "    }\n",
       "\n",
       "    .dataframe thead th {\n",
       "        text-align: right;\n",
       "    }\n",
       "</style>\n",
       "<table border=\"1\" class=\"dataframe\">\n",
       "  <thead>\n",
       "    <tr style=\"text-align: right;\">\n",
       "      <th></th>\n",
       "      <th>Student Name</th>\n",
       "      <th>Gender</th>\n",
       "      <th>Total Amount</th>\n",
       "      <th>Subcription Type</th>\n",
       "      <th>School</th>\n",
       "      <th>Discount</th>\n",
       "    </tr>\n",
       "  </thead>\n",
       "  <tbody>\n",
       "    <tr>\n",
       "      <th>42</th>\n",
       "      <td>Japjot Rikhraj</td>\n",
       "      <td>Male</td>\n",
       "      <td>40000</td>\n",
       "      <td>6-M</td>\n",
       "      <td>Clarence high school</td>\n",
       "      <td>14</td>\n",
       "    </tr>\n",
       "    <tr>\n",
       "      <th>22</th>\n",
       "      <td>Vedant Gupta</td>\n",
       "      <td>Male</td>\n",
       "      <td>22000</td>\n",
       "      <td>10-M</td>\n",
       "      <td>Carmel public school</td>\n",
       "      <td>14</td>\n",
       "    </tr>\n",
       "    <tr>\n",
       "      <th>15</th>\n",
       "      <td>Zoe Akthar</td>\n",
       "      <td>Female</td>\n",
       "      <td>5500</td>\n",
       "      <td>SC</td>\n",
       "      <td>orchid the international school</td>\n",
       "      <td>14</td>\n",
       "    </tr>\n",
       "    <tr>\n",
       "      <th>35</th>\n",
       "      <td>Navika Agal</td>\n",
       "      <td>Female</td>\n",
       "      <td>60000</td>\n",
       "      <td>6-M</td>\n",
       "      <td>orchid the international school</td>\n",
       "      <td>13</td>\n",
       "    </tr>\n",
       "    <tr>\n",
       "      <th>39</th>\n",
       "      <td>Kshitij Gophane</td>\n",
       "      <td>Male</td>\n",
       "      <td>5500</td>\n",
       "      <td>SC</td>\n",
       "      <td>orchid the international school</td>\n",
       "      <td>13</td>\n",
       "    </tr>\n",
       "  </tbody>\n",
       "</table>\n",
       "</div>"
      ],
      "text/plain": [
       "       Student Name  Gender  Total Amount Subcription Type  \\\n",
       "42   Japjot Rikhraj    Male         40000              6-M   \n",
       "22     Vedant Gupta    Male         22000             10-M   \n",
       "15       Zoe Akthar  Female          5500               SC   \n",
       "35      Navika Agal  Female         60000              6-M   \n",
       "39  Kshitij Gophane    Male          5500               SC   \n",
       "\n",
       "                             School  Discount  \n",
       "42             Clarence high school        14  \n",
       "22             Carmel public school        14  \n",
       "15  orchid the international school        14  \n",
       "35  orchid the international school        13  \n",
       "39  orchid the international school        13  "
      ]
     },
     "execution_count": 132,
     "metadata": {},
     "output_type": "execute_result"
    }
   ],
   "source": [
    "df[['Student Name','Gender','Total Amount','Subcription Type','School','Discount']].sort_values(['Discount'], ascending=False).head()"
   ]
  },
  {
   "cell_type": "code",
   "execution_count": null,
   "metadata": {},
   "outputs": [],
   "source": []
  },
  {
   "cell_type": "markdown",
   "metadata": {},
   "source": [
    "## Academy Gender Count Analysis"
   ]
  },
  {
   "cell_type": "code",
   "execution_count": 89,
   "metadata": {},
   "outputs": [
    {
     "name": "stdout",
     "output_type": "stream",
     "text": [
      "Total Number of boys = 31 i.e 64.58%\n",
      "Total Number of Girls = 17 i.e 35.42%\n"
     ]
    },
    {
     "data": {
      "image/png": "[encoded data removed]",
      "text/plain": [
       "<Figure size 864x360 with 1 Axes>"
      ]
     },
     "metadata": {
      "needs_background": "light"
     },
     "output_type": "display_data"
    }
   ],
   "source": [
    "df['Gender'].value_counts() .plot(kind='barh',color='orange',figsize=(12,5))\n",
    "plt.grid(alpha=0.5)\n",
    "plt.title(\"Academt Gender Count\")\n",
    "plt.xlim((0,50))\n",
    "print(\"Total Number of boys = {} i.e {}%\".format(df[df[\"Gender\"] == 'Male']['Gender'].count(),round((df[df[\"Gender\"] == 'Male']['Gender'].count()/df['Gender'].count())*100,2)))\n",
    "print(\"Total Number of Girls = {} i.e {}%\".format(df[df[\"Gender\"] == 'Female']['Gender'].count(),round((df[df[\"Gender\"] == 'Female']['Gender'].count()/df['Gender'].count())*100,2)))"
   ]
  },
  {
   "cell_type": "markdown",
   "metadata": {},
   "source": [
    "## Academy Subscription Analysis"
   ]
  },
  {
   "cell_type": "code",
   "execution_count": 24,
   "metadata": {},
   "outputs": [
    {
     "data": {
      "text/plain": [
       "(0, 20)"
      ]
     },
     "execution_count": 24,
     "metadata": {},
     "output_type": "execute_result"
    },
    {
     "data": {
      "image/png": "[encoded data removed]",
      "text/plain": [
       "<Figure size 864x360 with 1 Axes>"
      ]
     },
     "metadata": {
      "needs_background": "light"
     },
     "output_type": "display_data"
    }
   ],
   "source": [
    "df['Subcription Type'].value_counts() .plot(kind='barh',color='green',figsize=(12,5))\n",
    "plt.grid(alpha=0.5)\n",
    "plt.title(\"Academt Subscription Count\")\n",
    "plt.xlim((0,20))"
   ]
  },
  {
   "cell_type": "markdown",
   "metadata": {},
   "source": [
    "## Academy School Link Analysis"
   ]
  },
  {
   "cell_type": "code",
   "execution_count": 25,
   "metadata": {},
   "outputs": [
    {
     "name": "stdout",
     "output_type": "stream",
     "text": [
      "orchid the international school    17\n",
      "Samved schools                     10\n",
      "Royal high school                   4\n",
      "Carmel public school                4\n",
      "Capitol public school               4\n",
      "Ekya school                         3\n",
      "Frank public school                 2\n",
      "clarence high school                2\n",
      "Clarence high school                2\n",
      "Name: School, dtype: int64\n"
     ]
    }
   ],
   "source": [
    "print(df['School'].value_counts()) "
   ]
  },
  {
   "cell_type": "code",
   "execution_count": 26,
   "metadata": {},
   "outputs": [
    {
     "data": {
      "image/png": "[encoded data removed]",
      "text/plain": [
       "<Figure size 1008x288 with 2 Axes>"
      ]
     },
     "metadata": {
      "needs_background": "light"
     },
     "output_type": "display_data"
    }
   ],
   "source": [
    "plt.figure(figsize=(14,4))\n",
    "\n",
    "plt.subplot(1,2,1)\n",
    "df[df[\"School\"] == 'orchid the international school']['Subcription Type'].value_counts() .plot(kind='barh',color='orange')\n",
    "plt.title(\"Orchid the international school\")\n",
    "plt.xlim((0,10))\n",
    "plt.ylabel(\"Subscription\")\n",
    "plt.xlabel(\"No. Of Students\")\n",
    "plt.grid(alpha=0.5)\n",
    "\n",
    "plt.subplot(1,2,2)\n",
    "df[df[\"School\"] == 'Samved schools']['Subcription Type'].value_counts() .plot(kind='barh',color='orange')\n",
    "plt.title(\"Samved schools\")\n",
    "plt.xlim((0,10))\n",
    "plt.ylabel(\"Subscription\")\n",
    "plt.xlabel(\"No. Of Students\")\n",
    "plt.grid(alpha=0.5)\n"
   ]
  },
  {
   "cell_type": "markdown",
   "metadata": {},
   "source": [
    "## Age Factor "
   ]
  },
  {
   "cell_type": "code",
   "execution_count": 27,
   "metadata": {},
   "outputs": [
    {
     "data": {
      "text/plain": [
       "6     10\n",
       "9      9\n",
       "12     8\n",
       "13     6\n",
       "14     4\n",
       "7      4\n",
       "10     3\n",
       "11     2\n",
       "8      2\n",
       "Name: age, dtype: int64"
      ]
     },
     "execution_count": 27,
     "metadata": {},
     "output_type": "execute_result"
    }
   ],
   "source": [
    "df['age'].value_counts() "
   ]
  },
  {
   "cell_type": "code",
   "execution_count": 28,
   "metadata": {},
   "outputs": [
    {
     "data": {
      "text/plain": [
       "<matplotlib.axes._subplots.AxesSubplot at 0x7f9efc403780>"
      ]
     },
     "execution_count": 28,
     "metadata": {},
     "output_type": "execute_result"
    },
    {
     "data": {
      "image/png": "[encoded data removed]",
      "text/plain": [
       "<Figure size 864x360 with 1 Axes>"
      ]
     },
     "metadata": {
      "needs_background": "light"
     },
     "output_type": "display_data"
    }
   ],
   "source": [
    "plt.figure(figsize=(12,5))\n",
    "sns.distplot(df['age'], color='Orange',bins=25)"
   ]
  },
  {
   "cell_type": "code",
   "execution_count": 29,
   "metadata": {},
   "outputs": [
    {
     "data": {
      "image/png": "[encoded data removed]",
      "text/plain": [
       "<Figure size 1008x288 with 2 Axes>"
      ]
     },
     "metadata": {
      "needs_background": "light"
     },
     "output_type": "display_data"
    }
   ],
   "source": [
    "plt.figure(figsize=(14,4))\n",
    "\n",
    "plt.subplot(1,2,1)\n",
    "df[df[\"School\"] == 'orchid the international school']['age'].value_counts() .plot(kind='barh',color='orange')\n",
    "plt.title(\"Orchid the international school\")\n",
    "plt.xlim((0,10))\n",
    "plt.ylabel(\"Age\")\n",
    "plt.xlabel(\"No. Of Students\")\n",
    "plt.grid(alpha=0.5)\n",
    "\n",
    "plt.subplot(1,2,2)\n",
    "df[df[\"School\"] == 'Samved schools']['age'].value_counts() .plot(kind='barh',color='orange')\n",
    "plt.title(\"Samved schools\")\n",
    "plt.ylabel(\"Age\")\n",
    "plt.xlabel(\"No. Of Students\")\n",
    "plt.xlim((0,10))\n",
    "plt.grid(alpha=0.5)"
   ]
  },
  {
   "cell_type": "markdown",
   "metadata": {},
   "source": [
    "## Subscription Amount Analysis"
   ]
  },
  {
   "cell_type": "code",
   "execution_count": 30,
   "metadata": {},
   "outputs": [
    {
     "data": {
      "text/plain": [
       "5500     16\n",
       "3500      7\n",
       "30000     6\n",
       "9500      5\n",
       "22000     4\n",
       "40000     3\n",
       "20000     2\n",
       "12000     1\n",
       "9000      1\n",
       "60000     1\n",
       "90000     1\n",
       "8000      1\n",
       "Name: Amount, dtype: int64"
      ]
     },
     "execution_count": 30,
     "metadata": {},
     "output_type": "execute_result"
    }
   ],
   "source": [
    "df['Amount'].value_counts() "
   ]
  },
  {
   "cell_type": "code",
   "execution_count": 31,
   "metadata": {},
   "outputs": [
    {
     "data": {
      "text/plain": [
       "<matplotlib.axes._subplots.AxesSubplot at 0x7f9efc20e2e8>"
      ]
     },
     "execution_count": 31,
     "metadata": {},
     "output_type": "execute_result"
    },
    {
     "data": {
      "image/png": "[encoded data removed]",
      "text/plain": [
       "<Figure size 864x360 with 1 Axes>"
      ]
     },
     "metadata": {
      "needs_background": "light"
     },
     "output_type": "display_data"
    }
   ],
   "source": [
    "plt.figure(figsize=(12,5))\n",
    "sns.distplot(df['Amount'], color='Orange',bins=35)"
   ]
  },
  {
   "cell_type": "code",
   "execution_count": 32,
   "metadata": {},
   "outputs": [
    {
     "name": "stdout",
     "output_type": "stream",
     "text": [
      "Total Revenue till date = Rs 767000/-\n"
     ]
    }
   ],
   "source": [
    "print(\"Total Revenue till date = Rs {}/-\".format(df['Amount'].sum()))"
   ]
  },
  {
   "cell_type": "markdown",
   "metadata": {},
   "source": [
    "## Subscription Due Amount Analysis"
   ]
  },
  {
   "cell_type": "code",
   "execution_count": 33,
   "metadata": {},
   "outputs": [
    {
     "data": {
      "text/plain": [
       "0        29\n",
       "2000      6\n",
       "1000      5\n",
       "500       2\n",
       "4000      2\n",
       "5000      2\n",
       "10000     1\n",
       "2500      1\n",
       "Name: Balance-Due, dtype: int64"
      ]
     },
     "execution_count": 33,
     "metadata": {},
     "output_type": "execute_result"
    }
   ],
   "source": [
    "df['Balance-Due'].value_counts()"
   ]
  },
  {
   "cell_type": "code",
   "execution_count": 34,
   "metadata": {},
   "outputs": [
    {
     "data": {
      "text/plain": [
       "<matplotlib.axes._subplots.AxesSubplot at 0x7f9efc162208>"
      ]
     },
     "execution_count": 34,
     "metadata": {},
     "output_type": "execute_result"
    },
    {
     "data": {
      "image/png": "[encoded data removed]",
      "text/plain": [
       "<Figure size 864x360 with 1 Axes>"
      ]
     },
     "metadata": {
      "needs_background": "light"
     },
     "output_type": "display_data"
    }
   ],
   "source": [
    "plt.figure(figsize=(12,5))\n",
    "dues = df['Balance-Due'][df[\"Balance-Due\"] > 0]\n",
    "sns.distplot(dues, color='Orange',bins=35)"
   ]
  },
  {
   "cell_type": "code",
   "execution_count": 35,
   "metadata": {},
   "outputs": [
    {
     "name": "stdout",
     "output_type": "stream",
     "text": [
      "Total Due till date = Rs 48500/-\n"
     ]
    }
   ],
   "source": [
    "print(\"Total Due till date = Rs {}/-\".format(df['Balance-Due'].sum()))"
   ]
  },
  {
   "cell_type": "markdown",
   "metadata": {},
   "source": [
    "## Practical vs Theoritically Revenue Analysis"
   ]
  },
  {
   "cell_type": "code",
   "execution_count": 36,
   "metadata": {},
   "outputs": [
    {
     "name": "stdout",
     "output_type": "stream",
     "text": [
      "Total amount to be received = Rs 767000/-\n",
      "Actual amount to be received = Rs 718500/-\n",
      "Due amount to be received = Rs 48500/-\n"
     ]
    }
   ],
   "source": [
    "threv = df['Amount'].sum()\n",
    "prrev = df['Amount'].sum()-df['Balance-Due'].sum()\n",
    "duerev = df['Balance-Due'].sum()\n",
    "result = [threv, prrev, duerev]\n",
    "print(\"Total amount to be received = Rs {}/-\".format(threv))\n",
    "print(\"Actual amount to be received = Rs {}/-\".format(prrev))\n",
    "print(\"Due amount to be received = Rs {}/-\".format(duerev))"
   ]
  },
  {
   "cell_type": "code",
   "execution_count": 37,
   "metadata": {},
   "outputs": [
    {
     "data": {
      "text/plain": [
       "(0, 1000000)"
      ]
     },
     "execution_count": 37,
     "metadata": {},
     "output_type": "execute_result"
    },
    {
     "data": {
      "image/png": "[encoded data removed]",
      "text/plain": [
       "<Figure size 720x288 with 1 Axes>"
      ]
     },
     "metadata": {
      "needs_background": "light"
     },
     "output_type": "display_data"
    }
   ],
   "source": [
    "rev = pd.DataFrame({'Revenue-Type':['Th-Amt', 'Ac-Amt', 'Due-Amt'], 'revenue':[threv, prrev, duerev]})\n",
    "ax = rev.plot.barh(x='Revenue-Type', y='revenue',color='orange',figsize=(10,4))\n",
    "plt.grid(alpha=0.5)\n",
    "plt.xlim((0,1000000))"
   ]
  },
  {
   "cell_type": "code",
   "execution_count": 38,
   "metadata": {},
   "outputs": [
    {
     "name": "stdout",
     "output_type": "stream",
     "text": [
      "Total of 6.32% of revenue i.e Rs. 48500/- are in form of dues\n"
     ]
    }
   ],
   "source": [
    "print(\"Total of {}% of revenue i.e Rs. {}/- are in form of dues\".format(round((100-(prrev/threv)*100),2),duerev))"
   ]
  },
  {
   "cell_type": "markdown",
   "metadata": {},
   "source": [
    "## Subscription Discount Analysis"
   ]
  },
  {
   "cell_type": "code",
   "execution_count": 39,
   "metadata": {},
   "outputs": [
    {
     "data": {
      "text/plain": [
       "8     5\n",
       "7     5\n",
       "2     5\n",
       "11    4\n",
       "5     4\n",
       "4     4\n",
       "3     4\n",
       "13    3\n",
       "12    3\n",
       "6     3\n",
       "1     3\n",
       "0     2\n",
       "14    1\n",
       "10    1\n",
       "9     1\n",
       "Name: Discount, dtype: int64"
      ]
     },
     "execution_count": 39,
     "metadata": {},
     "output_type": "execute_result"
    }
   ],
   "source": [
    "df['Discount'].value_counts()"
   ]
  },
  {
   "cell_type": "code",
   "execution_count": 40,
   "metadata": {},
   "outputs": [
    {
     "data": {
      "text/plain": [
       "<matplotlib.axes._subplots.AxesSubplot at 0x7f9efc01d4e0>"
      ]
     },
     "execution_count": 40,
     "metadata": {},
     "output_type": "execute_result"
    },
    {
     "data": {
      "image/png": "[encoded data removed]",
      "text/plain": [
       "<Figure size 864x360 with 1 Axes>"
      ]
     },
     "metadata": {
      "needs_background": "light"
     },
     "output_type": "display_data"
    }
   ],
   "source": [
    "plt.figure(figsize=(12,5))\n",
    "sns.distplot(df['Discount'], color='Orange',bins=25)"
   ]
  },
  {
   "cell_type": "markdown",
   "metadata": {},
   "source": [
    "## Customer Classification Segment"
   ]
  },
  {
   "cell_type": "markdown",
   "metadata": {},
   "source": [
    "### Top 5 Highest Paying"
   ]
  },
  {
   "cell_type": "code",
   "execution_count": 41,
   "metadata": {},
   "outputs": [
    {
     "data": {
      "text/html": [
       "<div>\n",
       "<style scoped>\n",
       "    .dataframe tbody tr th:only-of-type {\n",
       "        vertical-align: middle;\n",
       "    }\n",
       "\n",
       "    .dataframe tbody tr th {\n",
       "        vertical-align: top;\n",
       "    }\n",
       "\n",
       "    .dataframe thead th {\n",
       "        text-align: right;\n",
       "    }\n",
       "</style>\n",
       "<table border=\"1\" class=\"dataframe\">\n",
       "  <thead>\n",
       "    <tr style=\"text-align: right;\">\n",
       "      <th></th>\n",
       "      <th>Student Name</th>\n",
       "      <th>Gender</th>\n",
       "      <th>Amount</th>\n",
       "      <th>Balance-Due</th>\n",
       "      <th>Subcription Type</th>\n",
       "      <th>School</th>\n",
       "      <th>Discount</th>\n",
       "    </tr>\n",
       "  </thead>\n",
       "  <tbody>\n",
       "    <tr>\n",
       "      <th>4</th>\n",
       "      <td>Pranav</td>\n",
       "      <td>Male</td>\n",
       "      <td>90000</td>\n",
       "      <td>10000</td>\n",
       "      <td>12-M</td>\n",
       "      <td>Frank public school</td>\n",
       "      <td>0</td>\n",
       "    </tr>\n",
       "    <tr>\n",
       "      <th>0</th>\n",
       "      <td>Harini</td>\n",
       "      <td>Female</td>\n",
       "      <td>60000</td>\n",
       "      <td>5000</td>\n",
       "      <td>12-M</td>\n",
       "      <td>orchid the international school</td>\n",
       "      <td>3</td>\n",
       "    </tr>\n",
       "    <tr>\n",
       "      <th>41</th>\n",
       "      <td>Japjot Rikhraj</td>\n",
       "      <td>Male</td>\n",
       "      <td>40000</td>\n",
       "      <td>0</td>\n",
       "      <td>6-M</td>\n",
       "      <td>Clarence high school</td>\n",
       "      <td>4</td>\n",
       "    </tr>\n",
       "    <tr>\n",
       "      <th>32</th>\n",
       "      <td>Priyadarshini</td>\n",
       "      <td>Female</td>\n",
       "      <td>40000</td>\n",
       "      <td>0</td>\n",
       "      <td>6-M</td>\n",
       "      <td>orchid the international school</td>\n",
       "      <td>8</td>\n",
       "    </tr>\n",
       "    <tr>\n",
       "      <th>36</th>\n",
       "      <td>Mythili</td>\n",
       "      <td>Female</td>\n",
       "      <td>40000</td>\n",
       "      <td>4000</td>\n",
       "      <td>6-M</td>\n",
       "      <td>clarence high school</td>\n",
       "      <td>3</td>\n",
       "    </tr>\n",
       "  </tbody>\n",
       "</table>\n",
       "</div>"
      ],
      "text/plain": [
       "      Student Name  Gender  Amount  Balance-Due Subcription Type  \\\n",
       "4           Pranav    Male   90000        10000             12-M   \n",
       "0           Harini  Female   60000         5000             12-M   \n",
       "41  Japjot Rikhraj    Male   40000            0              6-M   \n",
       "32   Priyadarshini  Female   40000            0              6-M   \n",
       "36         Mythili  Female   40000         4000              6-M   \n",
       "\n",
       "                             School  Discount  \n",
       "4               Frank public school         0  \n",
       "0   orchid the international school         3  \n",
       "41             Clarence high school         4  \n",
       "32  orchid the international school         8  \n",
       "36             clarence high school         3  "
      ]
     },
     "execution_count": 41,
     "metadata": {},
     "output_type": "execute_result"
    }
   ],
   "source": [
    "df[['Student Name','Gender','Amount','Balance-Due','Subcription Type','School','Discount']].sort_values(['Amount','Balance-Due','Discount'], ascending=[0,1,1]).head()"
   ]
  },
  {
   "cell_type": "markdown",
   "metadata": {},
   "source": [
    "### Top 5  Highest Discount"
   ]
  },
  {
   "cell_type": "code",
   "execution_count": 42,
   "metadata": {},
   "outputs": [
    {
     "data": {
      "text/html": [
       "<div>\n",
       "<style scoped>\n",
       "    .dataframe tbody tr th:only-of-type {\n",
       "        vertical-align: middle;\n",
       "    }\n",
       "\n",
       "    .dataframe tbody tr th {\n",
       "        vertical-align: top;\n",
       "    }\n",
       "\n",
       "    .dataframe thead th {\n",
       "        text-align: right;\n",
       "    }\n",
       "</style>\n",
       "<table border=\"1\" class=\"dataframe\">\n",
       "  <thead>\n",
       "    <tr style=\"text-align: right;\">\n",
       "      <th></th>\n",
       "      <th>Student Name</th>\n",
       "      <th>Gender</th>\n",
       "      <th>Amount</th>\n",
       "      <th>Balance-Due</th>\n",
       "      <th>Subcription Type</th>\n",
       "      <th>School</th>\n",
       "      <th>Discount</th>\n",
       "    </tr>\n",
       "  </thead>\n",
       "  <tbody>\n",
       "    <tr>\n",
       "      <th>20</th>\n",
       "      <td>Vrushank</td>\n",
       "      <td>Male</td>\n",
       "      <td>22000</td>\n",
       "      <td>2000</td>\n",
       "      <td>10-M</td>\n",
       "      <td>Capitol public school</td>\n",
       "      <td>14</td>\n",
       "    </tr>\n",
       "    <tr>\n",
       "      <th>2</th>\n",
       "      <td>Nivya</td>\n",
       "      <td>Female</td>\n",
       "      <td>30000</td>\n",
       "      <td>4000</td>\n",
       "      <td>6-M</td>\n",
       "      <td>orchid the international school</td>\n",
       "      <td>13</td>\n",
       "    </tr>\n",
       "    <tr>\n",
       "      <th>3</th>\n",
       "      <td>Ayana Maurya</td>\n",
       "      <td>Female</td>\n",
       "      <td>12000</td>\n",
       "      <td>2500</td>\n",
       "      <td>3-M</td>\n",
       "      <td>Royal high school</td>\n",
       "      <td>13</td>\n",
       "    </tr>\n",
       "    <tr>\n",
       "      <th>45</th>\n",
       "      <td>Aniruddh</td>\n",
       "      <td>Male</td>\n",
       "      <td>20000</td>\n",
       "      <td>2000</td>\n",
       "      <td>NaN</td>\n",
       "      <td>Carmel public school</td>\n",
       "      <td>13</td>\n",
       "    </tr>\n",
       "    <tr>\n",
       "      <th>6</th>\n",
       "      <td>Siddhanth</td>\n",
       "      <td>Male</td>\n",
       "      <td>5500</td>\n",
       "      <td>0</td>\n",
       "      <td>SC</td>\n",
       "      <td>Samved schools</td>\n",
       "      <td>12</td>\n",
       "    </tr>\n",
       "  </tbody>\n",
       "</table>\n",
       "</div>"
      ],
      "text/plain": [
       "    Student Name  Gender  Amount  Balance-Due Subcription Type  \\\n",
       "20      Vrushank    Male   22000         2000             10-M   \n",
       "2          Nivya  Female   30000         4000              6-M   \n",
       "3   Ayana Maurya  Female   12000         2500              3-M   \n",
       "45      Aniruddh    Male   20000         2000              NaN   \n",
       "6      Siddhanth    Male    5500            0               SC   \n",
       "\n",
       "                             School  Discount  \n",
       "20            Capitol public school        14  \n",
       "2   orchid the international school        13  \n",
       "3                 Royal high school        13  \n",
       "45             Carmel public school        13  \n",
       "6                    Samved schools        12  "
      ]
     },
     "execution_count": 42,
     "metadata": {},
     "output_type": "execute_result"
    }
   ],
   "source": [
    "df[['Student Name','Gender','Amount','Balance-Due','Subcription Type','School','Discount']].sort_values(['Discount'], ascending=False).head()"
   ]
  },
  {
   "cell_type": "markdown",
   "metadata": {},
   "source": [
    "### Top 5 Lowest Paying"
   ]
  },
  {
   "cell_type": "code",
   "execution_count": 43,
   "metadata": {},
   "outputs": [
    {
     "data": {
      "text/html": [
       "<div>\n",
       "<style scoped>\n",
       "    .dataframe tbody tr th:only-of-type {\n",
       "        vertical-align: middle;\n",
       "    }\n",
       "\n",
       "    .dataframe tbody tr th {\n",
       "        vertical-align: top;\n",
       "    }\n",
       "\n",
       "    .dataframe thead th {\n",
       "        text-align: right;\n",
       "    }\n",
       "</style>\n",
       "<table border=\"1\" class=\"dataframe\">\n",
       "  <thead>\n",
       "    <tr style=\"text-align: right;\">\n",
       "      <th></th>\n",
       "      <th>Student Name</th>\n",
       "      <th>Gender</th>\n",
       "      <th>Amount</th>\n",
       "      <th>Balance-Due</th>\n",
       "      <th>Subcription Type</th>\n",
       "      <th>School</th>\n",
       "      <th>Discount</th>\n",
       "    </tr>\n",
       "  </thead>\n",
       "  <tbody>\n",
       "    <tr>\n",
       "      <th>28</th>\n",
       "      <td>Saiyam Pareek</td>\n",
       "      <td>Male</td>\n",
       "      <td>3500</td>\n",
       "      <td>2000</td>\n",
       "      <td>1-M</td>\n",
       "      <td>Frank public school</td>\n",
       "      <td>11</td>\n",
       "    </tr>\n",
       "    <tr>\n",
       "      <th>5</th>\n",
       "      <td>Sanjeeth</td>\n",
       "      <td>Male</td>\n",
       "      <td>3500</td>\n",
       "      <td>1000</td>\n",
       "      <td>1-M</td>\n",
       "      <td>orchid the international school</td>\n",
       "      <td>2</td>\n",
       "    </tr>\n",
       "    <tr>\n",
       "      <th>46</th>\n",
       "      <td>Akshatha</td>\n",
       "      <td>Male</td>\n",
       "      <td>3500</td>\n",
       "      <td>500</td>\n",
       "      <td>1-M</td>\n",
       "      <td>orchid the international school</td>\n",
       "      <td>6</td>\n",
       "    </tr>\n",
       "    <tr>\n",
       "      <th>13</th>\n",
       "      <td>Mr. Joseph Winston</td>\n",
       "      <td>Male</td>\n",
       "      <td>3500</td>\n",
       "      <td>0</td>\n",
       "      <td>1-M</td>\n",
       "      <td>Samved schools</td>\n",
       "      <td>12</td>\n",
       "    </tr>\n",
       "    <tr>\n",
       "      <th>12</th>\n",
       "      <td>Rohit</td>\n",
       "      <td>Male</td>\n",
       "      <td>3500</td>\n",
       "      <td>0</td>\n",
       "      <td>1-M</td>\n",
       "      <td>clarence high school</td>\n",
       "      <td>11</td>\n",
       "    </tr>\n",
       "  </tbody>\n",
       "</table>\n",
       "</div>"
      ],
      "text/plain": [
       "          Student Name Gender  Amount  Balance-Due Subcription Type  \\\n",
       "28       Saiyam Pareek   Male    3500         2000              1-M   \n",
       "5             Sanjeeth   Male    3500         1000              1-M   \n",
       "46            Akshatha   Male    3500          500              1-M   \n",
       "13  Mr. Joseph Winston   Male    3500            0              1-M   \n",
       "12               Rohit   Male    3500            0              1-M   \n",
       "\n",
       "                             School  Discount  \n",
       "28              Frank public school        11  \n",
       "5   orchid the international school         2  \n",
       "46  orchid the international school         6  \n",
       "13                   Samved schools        12  \n",
       "12             clarence high school        11  "
      ]
     },
     "execution_count": 43,
     "metadata": {},
     "output_type": "execute_result"
    }
   ],
   "source": [
    "df[['Student Name','Gender','Amount','Balance-Due','Subcription Type','School','Discount']].sort_values(['Amount','Balance-Due','Discount'], ascending=[1,0,0]).head()"
   ]
  },
  {
   "cell_type": "markdown",
   "metadata": {},
   "source": [
    "## Top 5 Valuable Customers"
   ]
  },
  {
   "cell_type": "code",
   "execution_count": 44,
   "metadata": {},
   "outputs": [
    {
     "data": {
      "text/html": [
       "<div>\n",
       "<style scoped>\n",
       "    .dataframe tbody tr th:only-of-type {\n",
       "        vertical-align: middle;\n",
       "    }\n",
       "\n",
       "    .dataframe tbody tr th {\n",
       "        vertical-align: top;\n",
       "    }\n",
       "\n",
       "    .dataframe thead th {\n",
       "        text-align: right;\n",
       "    }\n",
       "</style>\n",
       "<table border=\"1\" class=\"dataframe\">\n",
       "  <thead>\n",
       "    <tr style=\"text-align: right;\">\n",
       "      <th></th>\n",
       "      <th>Student Name</th>\n",
       "      <th>Gender</th>\n",
       "      <th>Amount</th>\n",
       "      <th>Balance-Due</th>\n",
       "      <th>Subcription Type</th>\n",
       "      <th>School</th>\n",
       "      <th>Discount</th>\n",
       "      <th>No. of Hours Practice</th>\n",
       "      <th>Active/ Inactive</th>\n",
       "    </tr>\n",
       "  </thead>\n",
       "  <tbody>\n",
       "    <tr>\n",
       "      <th>4</th>\n",
       "      <td>Pranav</td>\n",
       "      <td>Male</td>\n",
       "      <td>90000</td>\n",
       "      <td>10000</td>\n",
       "      <td>12-M</td>\n",
       "      <td>Frank public school</td>\n",
       "      <td>0</td>\n",
       "      <td>144</td>\n",
       "      <td>Active</td>\n",
       "    </tr>\n",
       "    <tr>\n",
       "      <th>0</th>\n",
       "      <td>Harini</td>\n",
       "      <td>Female</td>\n",
       "      <td>60000</td>\n",
       "      <td>5000</td>\n",
       "      <td>12-M</td>\n",
       "      <td>orchid the international school</td>\n",
       "      <td>3</td>\n",
       "      <td>144</td>\n",
       "      <td>Active</td>\n",
       "    </tr>\n",
       "    <tr>\n",
       "      <th>41</th>\n",
       "      <td>Japjot Rikhraj</td>\n",
       "      <td>Male</td>\n",
       "      <td>40000</td>\n",
       "      <td>0</td>\n",
       "      <td>6-M</td>\n",
       "      <td>Clarence high school</td>\n",
       "      <td>4</td>\n",
       "      <td>120</td>\n",
       "      <td>Active</td>\n",
       "    </tr>\n",
       "    <tr>\n",
       "      <th>32</th>\n",
       "      <td>Priyadarshini</td>\n",
       "      <td>Female</td>\n",
       "      <td>40000</td>\n",
       "      <td>0</td>\n",
       "      <td>6-M</td>\n",
       "      <td>orchid the international school</td>\n",
       "      <td>8</td>\n",
       "      <td>120</td>\n",
       "      <td>Active</td>\n",
       "    </tr>\n",
       "    <tr>\n",
       "      <th>36</th>\n",
       "      <td>Mythili</td>\n",
       "      <td>Female</td>\n",
       "      <td>40000</td>\n",
       "      <td>4000</td>\n",
       "      <td>6-M</td>\n",
       "      <td>clarence high school</td>\n",
       "      <td>3</td>\n",
       "      <td>120</td>\n",
       "      <td>Active</td>\n",
       "    </tr>\n",
       "  </tbody>\n",
       "</table>\n",
       "</div>"
      ],
      "text/plain": [
       "      Student Name  Gender  Amount  Balance-Due Subcription Type  \\\n",
       "4           Pranav    Male   90000        10000             12-M   \n",
       "0           Harini  Female   60000         5000             12-M   \n",
       "41  Japjot Rikhraj    Male   40000            0              6-M   \n",
       "32   Priyadarshini  Female   40000            0              6-M   \n",
       "36         Mythili  Female   40000         4000              6-M   \n",
       "\n",
       "                             School  Discount  No. of Hours Practice  \\\n",
       "4               Frank public school         0                    144   \n",
       "0   orchid the international school         3                    144   \n",
       "41             Clarence high school         4                    120   \n",
       "32  orchid the international school         8                    120   \n",
       "36             clarence high school         3                    120   \n",
       "\n",
       "   Active/ Inactive  \n",
       "4            Active  \n",
       "0            Active  \n",
       "41           Active  \n",
       "32           Active  \n",
       "36           Active  "
      ]
     },
     "execution_count": 44,
     "metadata": {},
     "output_type": "execute_result"
    }
   ],
   "source": [
    "df[['Student Name','Gender','Amount','Balance-Due','Subcription Type','School','Discount','No. of Hours Practice','Active/ Inactive']].sort_values(['Amount','Balance-Due','Discount','No. of Hours Practice','Active/ Inactive'], ascending=[0,1,1,0,0]).head()"
   ]
  },
  {
   "cell_type": "markdown",
   "metadata": {},
   "source": [
    "## Customer Alert"
   ]
  },
  {
   "cell_type": "code",
   "execution_count": 66,
   "metadata": {},
   "outputs": [],
   "source": [
    "inp_date = pd.to_datetime('2018-12-20')"
   ]
  },
  {
   "cell_type": "markdown",
   "metadata": {},
   "source": [
    "### Elite Customer"
   ]
  },
  {
   "cell_type": "code",
   "execution_count": 67,
   "metadata": {},
   "outputs": [],
   "source": [
    "df['Cycle 1 - Start Date'] = pd.to_datetime(df['Cycle 1 - Start Date'])\n",
    "df['Cycle 1 - End Date'] = pd.to_datetime(df['Cycle 1 - End Date'])"
   ]
  },
  {
   "cell_type": "code",
   "execution_count": 68,
   "metadata": {},
   "outputs": [],
   "source": [
    "a = df[(((df['Cycle 1 - End Date'] - inp_date).dt.days)<20)&(((df['Cycle 1 - End Date'] - inp_date).dt.days)>0)][['Student Name','Gender','Amount','Balance-Due','Subcription Type','School','Discount','Cycle 1 - End Date','No. of Hours Practice','Active/ Inactive']].sort_values(['Amount','Balance-Due','Discount','No. of Hours Practice','Active/ Inactive'], ascending=[0,1,1,0,0])"
   ]
  },
  {
   "cell_type": "code",
   "execution_count": 69,
   "metadata": {},
   "outputs": [],
   "source": [
    "a.sort_values(['Cycle 1 - End Date'],ascending=True,inplace=True)"
   ]
  },
  {
   "cell_type": "code",
   "execution_count": 70,
   "metadata": {},
   "outputs": [],
   "source": [
    "a.drop(['Balance-Due','School','No. of Hours Practice','Active/ Inactive'],axis=1,inplace=True)"
   ]
  },
  {
   "cell_type": "code",
   "execution_count": 71,
   "metadata": {},
   "outputs": [
    {
     "name": "stdout",
     "output_type": "stream",
     "text": [
      "-------------------------------- Elite Customer -----------------------------------\n",
      "\n",
      "\n",
      "The following student subscription ends in 4 days 00:00:00\n",
      "\n",
      "Student Name                       Rishab\n",
      "Gender                               Male\n",
      "Amount                              30000\n",
      "Subcription Type                      6-M\n",
      "Discount                                5\n",
      "Cycle 1 - End Date    2018-12-24 00:00:00\n",
      "Name: 30, dtype: object\n",
      "\n",
      "\n",
      "\n",
      "The following student subscription ends in 11 days 00:00:00\n",
      "\n",
      "Student Name                       Harini\n",
      "Gender                             Female\n",
      "Amount                              60000\n",
      "Subcription Type                     12-M\n",
      "Discount                                3\n",
      "Cycle 1 - End Date    2018-12-31 00:00:00\n",
      "Name: 0, dtype: object\n",
      "\n",
      "\n",
      "\n"
     ]
    }
   ],
   "source": [
    "print(\"-------------------------------- Elite Customer -----------------------------------\")\n",
    "print()\n",
    "print()\n",
    "for i in range(0, len(a)):\n",
    "    print(\"The following student subscription ends in {}\".format((a.iloc[i]['Cycle 1 - End Date']-inp_date)))\n",
    "    print()\n",
    "    print(a.iloc[i])\n",
    "    print()\n",
    "    print()\n",
    "    print()"
   ]
  },
  {
   "cell_type": "markdown",
   "metadata": {},
   "source": [
    "### Normal Customer"
   ]
  },
  {
   "cell_type": "code",
   "execution_count": 72,
   "metadata": {},
   "outputs": [],
   "source": [
    "b = df[(((df['Cycle 1 - End Date'] - inp_date).dt.days)<100)&(((df['Cycle 1 - End Date'] - inp_date).dt.days)>0)&(df['Amount']<10000)][['Student Name','Gender','Amount','Balance-Due','Subcription Type','School','Discount','Cycle 1 - End Date']].sort_values(['Amount','Balance-Due','Discount'], ascending=[1,0,0])"
   ]
  },
  {
   "cell_type": "code",
   "execution_count": 73,
   "metadata": {},
   "outputs": [],
   "source": [
    "b.sort_values(['Cycle 1 - End Date'],ascending=True,inplace=True)"
   ]
  },
  {
   "cell_type": "code",
   "execution_count": 74,
   "metadata": {},
   "outputs": [],
   "source": [
    "b.drop(['School'],axis=1,inplace=True)"
   ]
  },
  {
   "cell_type": "code",
   "execution_count": 75,
   "metadata": {},
   "outputs": [
    {
     "name": "stdout",
     "output_type": "stream",
     "text": [
      "-------------------------------- Normal Customer -----------------------------------\n",
      "\n",
      "\n",
      "The following student subscription ends in 31 days 00:00:00 and with a due of Rs 0/-\n",
      "\n",
      "Student Name                       Atharv\n",
      "Gender                               Male\n",
      "Amount                               9500\n",
      "Balance-Due                             0\n",
      "Subcription Type                      3-M\n",
      "Discount                                8\n",
      "Cycle 1 - End Date    2019-01-20 00:00:00\n",
      "Name: 43, dtype: object\n",
      "\n",
      "\n",
      "\n",
      "The following student subscription ends in 72 days 00:00:00 and with a due of Rs 1000/-\n",
      "\n",
      "Student Name                     Sanjeeth\n",
      "Gender                               Male\n",
      "Amount                               3500\n",
      "Balance-Due                          1000\n",
      "Subcription Type                      1-M\n",
      "Discount                                2\n",
      "Cycle 1 - End Date    2019-03-02 00:00:00\n",
      "Name: 5, dtype: object\n",
      "\n",
      "\n",
      "\n",
      "The following student subscription ends in 72 days 00:00:00 and with a due of Rs 0/-\n",
      "\n",
      "Student Name                        Rohit\n",
      "Gender                               Male\n",
      "Amount                               3500\n",
      "Balance-Due                             0\n",
      "Subcription Type                      1-M\n",
      "Discount                               11\n",
      "Cycle 1 - End Date    2019-03-02 00:00:00\n",
      "Name: 12, dtype: object\n",
      "\n",
      "\n",
      "\n",
      "The following student subscription ends in 74 days 00:00:00 and with a due of Rs 0/-\n",
      "\n",
      "Student Name                     Pranav P\n",
      "Gender                               Male\n",
      "Amount                               5500\n",
      "Balance-Due                             0\n",
      "Subcription Type                       SC\n",
      "Discount                                2\n",
      "Cycle 1 - End Date    2019-03-04 00:00:00\n",
      "Name: 11, dtype: object\n",
      "\n",
      "\n",
      "\n",
      "The following student subscription ends in 90 days 00:00:00 and with a due of Rs 2000/-\n",
      "\n",
      "Student Name                Saiyam Pareek\n",
      "Gender                               Male\n",
      "Amount                               3500\n",
      "Balance-Due                          2000\n",
      "Subcription Type                      1-M\n",
      "Discount                               11\n",
      "Cycle 1 - End Date    2019-03-20 00:00:00\n",
      "Name: 28, dtype: object\n",
      "\n",
      "\n",
      "\n",
      "The following student subscription ends in 90 days 00:00:00 and with a due of Rs 0/-\n",
      "\n",
      "Student Name                Hasini Kamath\n",
      "Gender                             Female\n",
      "Amount                               3500\n",
      "Balance-Due                             0\n",
      "Subcription Type                      1-M\n",
      "Discount                                5\n",
      "Cycle 1 - End Date    2019-03-20 00:00:00\n",
      "Name: 16, dtype: object\n",
      "\n",
      "\n",
      "\n",
      "The following student subscription ends in 90 days 00:00:00 and with a due of Rs 0/-\n",
      "\n",
      "Student Name                    Siddhanth\n",
      "Gender                               Male\n",
      "Amount                               3500\n",
      "Balance-Due                             0\n",
      "Subcription Type                      1-M\n",
      "Discount                                5\n",
      "Cycle 1 - End Date    2019-03-20 00:00:00\n",
      "Name: 24, dtype: object\n",
      "\n",
      "\n",
      "\n"
     ]
    }
   ],
   "source": [
    "print(\"-------------------------------- Normal Customer -----------------------------------\")\n",
    "print()\n",
    "print()\n",
    "for i in range(0, len(b)):\n",
    "    print(\"The following student subscription ends in {} and with a due of Rs {}/-\".format((b.iloc[i]['Cycle 1 - End Date']-inp_date),b.iloc[i]['Balance-Due']))\n",
    "    print()\n",
    "    print(b.iloc[i])\n",
    "    print()\n",
    "    print()\n",
    "    print()"
   ]
  },
  {
   "cell_type": "code",
   "execution_count": null,
   "metadata": {},
   "outputs": [],
   "source": []
  },
  {
   "cell_type": "code",
   "execution_count": null,
   "metadata": {},
   "outputs": [],
   "source": []
  }
 ],
 "metadata": {
  "kernelspec": {
   "display_name": "Python 3",
   "language": "python",
   "name": "python3"
  },
  "language_info": {
   "codemirror_mode": {
    "name": "ipython",
    "version": 3
   },
   "file_extension": ".py",
   "mimetype": "text/x-python",
   "name": "python",
   "nbconvert_exporter": "python",
   "pygments_lexer": "ipython3",
   "version": "3.7.3"
  }
 },
 "nbformat": 4,
 "nbformat_minor": 2
}
