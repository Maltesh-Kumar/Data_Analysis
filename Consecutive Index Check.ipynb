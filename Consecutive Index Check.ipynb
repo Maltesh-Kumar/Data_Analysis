{
 "cells": [
  {
   "cell_type": "code",
   "execution_count": 1,
   "metadata": {},
   "outputs": [],
   "source": [
    "import pandas as pd\n",
    "# Reading Values\n",
    "df = pd.read_excel('D:/Maltesh/ML and AI/Coder_Phile/malteshdata.xlsx', 'replicated31-50with91-110')"
   ]
  },
  {
   "cell_type": "code",
   "execution_count": 2,
   "metadata": {},
   "outputs": [
    {
     "data": {
      "text/html": [
       "<div>\n",
       "<style scoped>\n",
       "    .dataframe tbody tr th:only-of-type {\n",
       "        vertical-align: middle;\n",
       "    }\n",
       "\n",
       "    .dataframe tbody tr th {\n",
       "        vertical-align: top;\n",
       "    }\n",
       "\n",
       "    .dataframe thead th {\n",
       "        text-align: right;\n",
       "    }\n",
       "</style>\n",
       "<table border=\"1\" class=\"dataframe\">\n",
       "  <thead>\n",
       "    <tr style=\"text-align: right;\">\n",
       "      <th></th>\n",
       "      <th>Values</th>\n",
       "    </tr>\n",
       "  </thead>\n",
       "  <tbody>\n",
       "    <tr>\n",
       "      <th>0</th>\n",
       "      <td>0.000000</td>\n",
       "    </tr>\n",
       "    <tr>\n",
       "      <th>1</th>\n",
       "      <td>3158.811635</td>\n",
       "    </tr>\n",
       "    <tr>\n",
       "      <th>2</th>\n",
       "      <td>923.437582</td>\n",
       "    </tr>\n",
       "    <tr>\n",
       "      <th>3</th>\n",
       "      <td>3188.479119</td>\n",
       "    </tr>\n",
       "    <tr>\n",
       "      <th>4</th>\n",
       "      <td>2732.481890</td>\n",
       "    </tr>\n",
       "  </tbody>\n",
       "</table>\n",
       "</div>"
      ],
      "text/plain": [
       "        Values\n",
       "0     0.000000\n",
       "1  3158.811635\n",
       "2   923.437582\n",
       "3  3188.479119\n",
       "4  2732.481890"
      ]
     },
     "execution_count": 2,
     "metadata": {},
     "output_type": "execute_result"
    }
   ],
   "source": [
    "df.head() "
   ]
  },
  {
   "cell_type": "code",
   "execution_count": 3,
   "metadata": {},
   "outputs": [],
   "source": [
    "new_list = df['Values']"
   ]
  },
  {
   "cell_type": "code",
   "execution_count": 4,
   "metadata": {},
   "outputs": [],
   "source": [
    "freq = {} \n",
    "for num in new_list:\n",
    "    freq[num] = freq.get(num,0)+1"
   ]
  },
  {
   "cell_type": "code",
   "execution_count": 5,
   "metadata": {},
   "outputs": [
    {
     "name": "stdout",
     "output_type": "stream",
     "text": [
      "{0.0: 1, 923.437581958541: 1, 1476.37625280406: 1, 1479.12777527364: 1, 1513.29854920417: 1, 1584.13753028067: 1, 1593.40278570737: 1, 1637.22674246727: 1, 1656.423561366: 1, 1662.08572581589: 1, 1681.14918726559: 2, 1766.0672543465: 2, 1785.14518377314: 1, 1794.18633085969: 1, 1804.15941705506: 2, 1806.8250595723: 1, 1836.20347727613: 1, 1846.26590394936: 1, 1878.7134994687: 1, 1879.50688944226: 1, 1893.89508417012: 1, 1910.85720880995: 1, 1923.13309532745: 1, 2006.6375869283: 1, 2026.87131031887: 2, 2549.98832411543: 1, 2732.48188966437: 1, 2785.27014633876: 2, 2898.96610459418: 2, 2988.39422139398: 2, 3029.35026294831: 2, 3155.52665829508: 1, 3158.81163482977: 1, 3172.65198103628: 2, 3186.0721483317: 2, 3188.47911861498: 1, 3225.80392596171: 2, 3251.02904622137: 1, 3386.24237710821: 2, 3490.64912480473: 2, 3644.92459613686: 2, 3667.37096406758: 1, 3737.80246568233: 2, 3935.77788084436: 2, 4280.94864587205: 2, 4304.34153543965: 2, 4348.02653151404: 1, 4354.65615379371: 2, 4426.98799258858: 1, 4439.57267340686: 1, 4441.73449622565: 1, 4447.12400908142: 1, 4459.01048516775: 1, 4478.86964139932: 1, 4498.67677583069: 1, 4526.77940108569: 1, 4557.71975340586: 1, 4583.45164525328: 1, 4587.09959594568: 1, 4609.07319139041: 1, 4637.44972176249: 1, 4649.02108301021: 1, 4664.59587433879: 1, 4674.32504820215: 1, 4698.37476211439: 1, 4789.42954088986: 1, 4800.20617355065: 2, 4818.40589562565: 1, 4915.81380507958: 1, 4969.96232026398: 1, 4981.85037120684: 1, 5096.05655101018: 1, 5132.82482751564: 1, 5170.47239052787: 1, 5225.52532412636: 1, 5263.26588315999: 1, 5284.69265862205: 1, 5298.67690295181: 1, 5310.04617410186: 1, 5577.30868317874: 1, 5814.18022488983: 1, 6143.53078576359: 1, 6428.18792233424: 1, 6567.11923553326: 1, 6767.5813046349: 1, 6934.43733720291: 1, 7139.06949660415: 1, 7342.20539387849: 1, 7532.46388764991: 1, 7568.32179779381: 1, 7599.88229703006: 1, 7756.53691697113: 1, 7921.06776354353: 1, 8032.67615492875: 1, 8130.32548837222: 1, 8401.15980646422: 1, 8401.62663838964: 1, 8523.09082034422: 1, 8544.53479661854: 1, 8570.07740538993: 1, 8634.21317799862: 1, 8692.85474811785: 1, 8735.64402498465: 1, 8810.81857845575: 1, 8945.3687729671: 1, 9007.05596996564: 1, 9009.2537704296: 1, 9058.91837840056: 1, 9221.98679230571: 1, 9228.37471216492: 1, 9253.05480385397: 1, 9666.84593707243: 1, 9774.06644394164: 1, 10424.7746558379: 1}\n"
     ]
    }
   ],
   "source": [
    "# Printing Numbers by frequency of it \n",
    "print(dict(sorted(freq.items())))"
   ]
  },
  {
   "cell_type": "markdown",
   "metadata": {},
   "source": [
    "This represents the frequency of each element in a list"
   ]
  },
  {
   "cell_type": "code",
   "execution_count": 6,
   "metadata": {},
   "outputs": [
    {
     "name": "stdout",
     "output_type": "stream",
     "text": [
      "0.0 : 1\n",
      "3158.81163482977 : 1\n",
      "923.437581958541 : 1\n",
      "3188.47911861498 : 1\n",
      "2732.48188966437 : 1\n",
      "2549.98832411543 : 1\n",
      "3251.02904622137 : 1\n",
      "1879.50688944226 : 1\n",
      "3667.37096406758 : 1\n",
      "4981.85037120684 : 1\n",
      "5132.82482751564 : 1\n",
      "3155.52665829508 : 1\n",
      "1923.13309532745 : 1\n",
      "2006.6375869283 : 1\n",
      "1910.85720880995 : 1\n",
      "1878.7134994687 : 1\n",
      "1893.89508417012 : 1\n",
      "1794.18633085969 : 1\n",
      "1656.423561366 : 1\n",
      "1584.13753028067 : 1\n",
      "1637.22674246727 : 1\n",
      "1593.40278570737 : 1\n",
      "1479.12777527364 : 1\n",
      "1476.37625280406 : 1\n",
      "1513.29854920417 : 1\n",
      "1662.08572581589 : 1\n",
      "1836.20347727613 : 1\n",
      "1846.26590394936 : 1\n",
      "1806.8250595723 : 1\n",
      "1785.14518377314 : 1\n",
      "1804.15941705506 : 2\n",
      "1766.0672543465 : 2\n",
      "1681.14918726559 : 2\n",
      "3737.80246568233 : 2\n",
      "4800.20617355065 : 2\n",
      "4354.65615379371 : 2\n",
      "2026.87131031887 : 2\n",
      "2898.96610459418 : 2\n",
      "2785.27014633876 : 2\n",
      "2988.39422139398 : 2\n",
      "3029.35026294831 : 2\n",
      "3172.65198103628 : 2\n",
      "3186.0721483317 : 2\n",
      "3225.80392596171 : 2\n",
      "3386.24237710821 : 2\n",
      "3490.64912480473 : 2\n",
      "3644.92459613686 : 2\n",
      "3935.77788084436 : 2\n",
      "4280.94864587205 : 2\n",
      "4304.34153543965 : 2\n",
      "4348.02653151404 : 1\n",
      "4587.09959594568 : 1\n",
      "4789.42954088986 : 1\n",
      "4915.81380507958 : 1\n",
      "5096.05655101018 : 1\n",
      "5170.47239052787 : 1\n",
      "5225.52532412636 : 1\n",
      "5284.69265862205 : 1\n",
      "5310.04617410186 : 1\n",
      "5263.26588315999 : 1\n",
      "4498.67677583069 : 1\n",
      "4447.12400908142 : 1\n",
      "4441.73449622565 : 1\n",
      "4526.77940108569 : 1\n",
      "4609.07319139041 : 1\n",
      "4664.59587433879 : 1\n",
      "4698.37476211439 : 1\n",
      "4583.45164525328 : 1\n",
      "4557.71975340586 : 1\n",
      "4674.32504820215 : 1\n",
      "4649.02108301021 : 1\n",
      "4439.57267340686 : 1\n",
      "4426.98799258858 : 1\n",
      "4459.01048516775 : 1\n",
      "4478.86964139932 : 1\n",
      "4637.44972176249 : 1\n",
      "4818.40589562565 : 1\n",
      "4969.96232026398 : 1\n",
      "5298.67690295181 : 1\n",
      "5577.30868317874 : 1\n",
      "5814.18022488983 : 1\n",
      "6143.53078576359 : 1\n",
      "6428.18792233424 : 1\n",
      "6567.11923553326 : 1\n",
      "6767.5813046349 : 1\n",
      "6934.43733720291 : 1\n",
      "7139.06949660415 : 1\n",
      "7342.20539387849 : 1\n",
      "9774.06644394164 : 1\n",
      "8810.81857845575 : 1\n",
      "7532.46388764991 : 1\n",
      "7568.32179779381 : 1\n",
      "7599.88229703006 : 1\n",
      "7756.53691697113 : 1\n",
      "7921.06776354353 : 1\n",
      "8032.67615492875 : 1\n",
      "8130.32548837222 : 1\n",
      "8523.09082034422 : 1\n",
      "8735.64402498465 : 1\n",
      "8570.07740538993 : 1\n",
      "8692.85474811785 : 1\n",
      "8634.21317799862 : 1\n",
      "8401.62663838964 : 1\n",
      "8401.15980646422 : 1\n",
      "8544.53479661854 : 1\n",
      "8945.3687729671 : 1\n",
      "9228.37471216492 : 1\n",
      "9058.91837840056 : 1\n",
      "9009.2537704296 : 1\n",
      "9221.98679230571 : 1\n",
      "9253.05480385397 : 1\n",
      "9666.84593707243 : 1\n",
      "10424.7746558379 : 1\n",
      "9007.05596996564 : 1\n"
     ]
    }
   ],
   "source": [
    "for a,b in freq.items():\n",
    "    print(\"{} : {}\".format(a,b))"
   ]
  },
  {
   "cell_type": "markdown",
   "metadata": {},
   "source": [
    "### Building an INDEX representation"
   ]
  },
  {
   "cell_type": "code",
   "execution_count": 7,
   "metadata": {},
   "outputs": [
    {
     "name": "stdout",
     "output_type": "stream",
     "text": [
      "20 numbers are consecutive\n",
      "The consecutive numbers are: [1804.15941705506, 1766.0672543465, 1681.14918726559, 3737.80246568233, 4800.20617355065, 4354.65615379371, 2026.87131031887, 2898.96610459418, 2785.27014633876, 2988.39422139398, 3029.35026294831, 3172.65198103628, 3186.0721483317, 3225.80392596171, 3386.24237710821, 3490.64912480473, 3644.92459613686, 3935.77788084436, 4280.94864587205, 4304.34153543965]\n",
      "\n",
      "Consecutive number's index are:\n",
      "Starting Index = [30, 31, 32, 33, 34, 35, 36, 37, 38, 39, 40, 41, 42, 43, 44, 45, 46, 47, 48, 49]\n",
      "Corresponding Index = [90, 91, 92, 93, 94, 95, 96, 97, 98, 99, 100, 101, 102, 103, 104, 105, 106, 107, 108, 109]\n"
     ]
    }
   ],
   "source": [
    "d = {}\n",
    "result_start = []\n",
    "result_end = []\n",
    "numbers = []\n",
    "count = 1\n",
    "useless = 1\n",
    "p = 0\n",
    "for i in range(len(new_list)):\n",
    "    for j in range(i+1,len(new_list)):\n",
    "        if new_list[i] == new_list[j]:\n",
    "            if i > p:\n",
    "                p = i\n",
    "                q = j\n",
    "            for x in range(p,q):              \n",
    "                if new_list[p+1] == new_list[q+1]:\n",
    "                    if useless == 1:\n",
    "                        numbers.append(new_list[i])\n",
    "                        result_start.append(i)\n",
    "                        result_end.append(j)\n",
    "                        useless = 0\n",
    "                    result_start.append(p+1)\n",
    "                    result_end.append(q+1) \n",
    "                    numbers.append(new_list[p+1])\n",
    "                    count += 1\n",
    "                    p += 1\n",
    "                    q += 1\n",
    "                                        \n",
    "                    \n",
    "if count > 1:\n",
    "    print(\"{} numbers are consecutive\".format(count))  \n",
    "    print(\"The consecutive numbers are: {}\\n\".format(numbers))\n",
    "    print(\"Consecutive number's index are:\\nStarting Index = {}\\nCorresponding Index = {}\".format(result_start,result_end))\n",
    "else:\n",
    "    print(\"There are no consecutive elements in a given list\")"
   ]
  },
  {
   "cell_type": "markdown",
   "metadata": {},
   "source": [
    "### Building an Graphical representation"
   ]
  },
  {
   "cell_type": "code",
   "execution_count": 10,
   "metadata": {},
   "outputs": [
    {
     "name": "stdout",
     "output_type": "stream",
     "text": [
      "[30, 31, 32, 33, 34, 35, 36, 37, 38, 39, 40, 41, 42, 43, 44, 45, 46, 47, 48, 49, 90, 91, 92, 93, 94, 95, 96, 97, 98, 99, 100, 101, 102, 103, 104, 105, 106, 107, 108, 109]\n"
     ]
    }
   ],
   "source": [
    "# Merging consecutive numbers\n",
    "consecutive = result_start + result_end\n",
    "print(consecutive)"
   ]
  },
  {
   "cell_type": "code",
   "execution_count": 11,
   "metadata": {},
   "outputs": [],
   "source": [
    "import matplotlib.pyplot as plt\n",
    "x = [x for x in range(len(df))]\n",
    "y = []\n",
    "for i in x:\n",
    "    if i in consecutive:\n",
    "        y.append(1)\n",
    "    else:\n",
    "        y.append(0) "
   ]
  },
  {
   "cell_type": "code",
   "execution_count": 13,
   "metadata": {},
   "outputs": [
    {
     "name": "stderr",
     "output_type": "stream",
     "text": [
      "No handles with labels found to put in legend.\n"
     ]
    },
    {
     "data": {
      "text/plain": [
       "Text(0,0.5,'Frequency')"
      ]
     },
     "execution_count": 13,
     "metadata": {},
     "output_type": "execute_result"
    },
    {
     "data": {
      "image/png": "[encoded data removed]",
      "text/plain": [
       "<Figure size 1008x432 with 1 Axes>"
      ]
     },
     "metadata": {
      "needs_background": "light"
     },
     "output_type": "display_data"
    }
   ],
   "source": [
    "plt.figure(figsize=(14,6))  \n",
    "plt.plot(x,y, color = 'orange', linewidth = 2.5) \n",
    "plt.grid(alpha=0.5)\n",
    "plt.legend()\n",
    "plt.xlabel('Index Numbers')\n",
    "plt.ylabel('Frequency')"
   ]
  },
  {
   "cell_type": "markdown",
   "metadata": {},
   "source": [
    "So the above graph says if \"Frequency\" is 1 then it's a consecutive number and rest are not consecutive"
   ]
  },
  {
   "cell_type": "code",
   "execution_count": null,
   "metadata": {},
   "outputs": [],
   "source": []
  }
 ],
 "metadata": {
  "kernelspec": {
   "display_name": "Python 3",
   "language": "python",
   "name": "python3"
  },
  "language_info": {
   "codemirror_mode": {
    "name": "ipython",
    "version": 3
   },
   "file_extension": ".py",
   "mimetype": "text/x-python",
   "name": "python",
   "nbconvert_exporter": "python",
   "pygments_lexer": "ipython3",
   "version": "3.7.0"
  }
 },
 "nbformat": 4,
 "nbformat_minor": 2
}
